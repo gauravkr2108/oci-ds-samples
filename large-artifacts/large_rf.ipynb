{
 "cells": [
  {
   "cell_type": "markdown",
   "id": "be55df0c",
   "metadata": {},
   "source": [
    "### OCI Data Science - Useful Tips\n",
    "<details>\n",
    "<summary><font size=\"2\">Check for Public Internet Access</font></summary>\n",
    "\n",
    "```python\n",
    "import requests\n",
    "response = requests.get(\"https://oracle.com\")\n",
    "assert response.status_code==200, \"Internet connection failed\"\n",
    "```\n",
    "</details>\n",
    "<details>\n",
    "<summary><font size=\"2\">Helpful Documentation </font></summary>\n",
    "<ul><li><a href=\"https://docs.cloud.oracle.com/en-us/iaas/data-science/using/data-science.htm\">Data Science Service Documentation</a></li>\n",
    "<li><a href=\"https://docs.cloud.oracle.com/iaas/tools/ads-sdk/latest/index.html\">ADS documentation</a></li>\n",
    "</ul>\n",
    "</details>\n",
    "<details>\n",
    "<summary><font size=\"2\">Typical Cell Imports and Settings for ADS</font></summary>\n",
    "\n",
    "```python\n",
    "%load_ext autoreload\n",
    "%autoreload 2\n",
    "%matplotlib inline\n",
    "\n",
    "import warnings\n",
    "warnings.filterwarnings('ignore')\n",
    "\n",
    "import logging\n",
    "logging.basicConfig(format='%(levelname)s:%(message)s', level=logging.ERROR)\n",
    "\n",
    "import ads\n",
    "from ads.dataset.factory import DatasetFactory\n",
    "from ads.automl.provider import OracleAutoMLProvider\n",
    "from ads.automl.driver import AutoML\n",
    "from ads.evaluations.evaluator import ADSEvaluator\n",
    "from ads.common.data import ADSData\n",
    "from ads.explanations.explainer import ADSExplainer\n",
    "from ads.explanations.mlx_global_explainer import MLXGlobalExplainer\n",
    "from ads.explanations.mlx_local_explainer import MLXLocalExplainer\n",
    "from ads.catalog.model import ModelCatalog\n",
    "from ads.common.model_artifact import ModelArtifact\n",
    "```\n",
    "</details>\n",
    "<details>\n",
    "<summary><font size=\"2\">Useful Environment Variables</font></summary>\n",
    "\n",
    "```python\n",
    "import os\n",
    "print(os.environ[\"NB_SESSION_COMPARTMENT_OCID\"])\n",
    "print(os.environ[\"PROJECT_OCID\"])\n",
    "print(os.environ[\"USER_OCID\"])\n",
    "print(os.environ[\"TENANCY_OCID\"])\n",
    "print(os.environ[\"NB_REGION\"])\n",
    "```\n",
    "</details>"
   ]
  },
  {
   "cell_type": "code",
   "execution_count": 79,
   "id": "5c910f6d",
   "metadata": {},
   "outputs": [
    {
     "name": "stdout",
     "output_type": "stream",
     "text": [
      "The autoreload extension is already loaded. To reload it, use:\n",
      "  %reload_ext autoreload\n"
     ]
    }
   ],
   "source": [
    "%load_ext autoreload\n",
    "%autoreload 2 \n",
    "\n",
    "import sklearn\n",
    "import joblib \n",
    "\n",
    "import json \n",
    "import numpy as np\n",
    "import pandas as pd \n",
    "import io\n",
    "\n",
    "from sklearn.datasets import make_classification \n",
    "from sklearn.ensemble import RandomForestClassifier"
   ]
  },
  {
   "cell_type": "markdown",
   "id": "6a7eee6d",
   "metadata": {},
   "source": [
    "# Training (look at the large_rf.py file)"
   ]
  },
  {
   "cell_type": "code",
   "execution_count": 78,
   "id": "9b3cdf1b",
   "metadata": {},
   "outputs": [],
   "source": [
    "dataset = make_classification(n_samples=10000, n_features=75, n_informative=25, n_redundant=10, n_classes=10)"
   ]
  },
  {
   "cell_type": "code",
   "execution_count": 22,
   "id": "2b5b35c5",
   "metadata": {},
   "outputs": [],
   "source": [
    "#rf_model = RandomForestClassifier(n_estimators=10000, max_depth=40, n_jobs=-1)"
   ]
  },
  {
   "cell_type": "code",
   "execution_count": null,
   "id": "2717d8a8",
   "metadata": {},
   "outputs": [],
   "source": [
    "#rf_model.fit(dataset[0], dataset[1])"
   ]
  },
  {
   "cell_type": "markdown",
   "id": "bcb8590d",
   "metadata": {},
   "source": [
    "# Inference"
   ]
  },
  {
   "cell_type": "code",
   "execution_count": 53,
   "id": "d6b42d2c",
   "metadata": {},
   "outputs": [],
   "source": [
    "rf_model = joblib.load(\"./rf.joblib\")"
   ]
  },
  {
   "cell_type": "code",
   "execution_count": 55,
   "id": "23654dcd",
   "metadata": {},
   "outputs": [
    {
     "data": {
      "text/plain": [
       "array([3])"
      ]
     },
     "execution_count": 55,
     "metadata": {},
     "output_type": "execute_result"
    }
   ],
   "source": [
    "rf_model.predict(dataset[0][1].reshape(1,-1))"
   ]
  },
  {
   "cell_type": "code",
   "execution_count": 72,
   "id": "be4ad19a",
   "metadata": {},
   "outputs": [],
   "source": [
    "# add the path of score.py: \n",
    "import sys \n",
    "path_to_rf_artifact = \".\"\n",
    "sys.path.insert(0, path_to_rf_artifact)\n",
    "\n",
    "from score import load_model, predict\n",
    "\n",
    "# Load the model to memory \n",
    "_ = load_model()\n",
    "\n",
    "# make predictions on the training dataset: \n",
    "#predictions_test = predict(input_data, _)"
   ]
  },
  {
   "cell_type": "code",
   "execution_count": 71,
   "id": "2cd854e2",
   "metadata": {},
   "outputs": [
    {
     "name": "stdout",
     "output_type": "stream",
     "text": [
      "The autoreload extension is already loaded. To reload it, use:\n",
      "  %reload_ext autoreload\n"
     ]
    }
   ],
   "source": [
    "data = json.dumps(dataset[0][1].tolist())"
   ]
  },
  {
   "cell_type": "code",
   "execution_count": 73,
   "id": "12bacc5c",
   "metadata": {},
   "outputs": [
    {
     "data": {
      "text/plain": [
       "'[4.120585256099616, 6.61550924980469, -1.4110922622903352, 3.318775420230694, 0.814725803346492, -1.1937240870504755, 4.749075811701801, 0.6456810515747426, -0.016881133266550052, -1.5711154274987351, -1.009136931191819, 0.0025248739054749567, 0.9579707002208835, -0.8524962952660069, 0.020501618114074065, -0.5569331299714617, -2.7168333358228, 0.7304477881422462, 1.0652776197725253, 1.063935095049703, 0.5487657102881885, 0.37176595218354896, -0.18119630571299636, 0.8547984910256942, -4.888900726711273, 0.13625053161991488, -0.6296930738444295, 1.2081391492861595, 2.934628001668291, -1.4318903589737018, -0.3814688989199022, 0.16156244505285172, -0.816488823046713, -0.6899975935318139, 0.697785073691099, 2.674131278699849, -0.7102067029335113, -0.17492059540159605, 1.0798189799081497, -3.044178477987029, 1.9108962329597228, 3.117948533877492, -0.057334854094098595, 8.430056389161534, -0.4783574370279823, -0.1114176624205239, 1.2782369324759975, -2.516537115297735, 0.186379558846538, 3.0863557057259707, 1.7988189094219447, -1.3119982876545428, 1.6050198064201904, 0.1871810987094977, 0.264331179561195, -0.29998902982238085, -1.0580266681198252, -2.5901554827543585, -2.8883467144307633, -0.16182293540747117, -0.7627695828375212, -0.05938903685099256, -8.268252307660896, -0.4073986059460527, 0.10727795907791891, -2.1917065196461847, -0.6981278736298265, -4.445503412871518, 0.6895493945987882, -0.34150980828365884, 1.318405665766018, -1.4047825527450137, -1.5002886561240536, 0.163853803027259, -0.16688148734255642]'"
      ]
     },
     "execution_count": 73,
     "metadata": {},
     "output_type": "execute_result"
    }
   ],
   "source": [
    "data"
   ]
  },
  {
   "cell_type": "code",
   "execution_count": 76,
   "id": "f3ccbfd6",
   "metadata": {},
   "outputs": [
    {
     "name": "stdout",
     "output_type": "stream",
     "text": [
      "(75,)\n"
     ]
    },
    {
     "name": "stderr",
     "output_type": "stream",
     "text": [
      "model-prediction - INFO - [3]\n",
      "input-features - INFO - [[ 4.12058526e+00  6.61550925e+00 -1.41109226e+00  3.31877542e+00\n",
      "   8.14725803e-01 -1.19372409e+00  4.74907581e+00  6.45681052e-01\n",
      "  -1.68811333e-02 -1.57111543e+00 -1.00913693e+00  2.52487391e-03\n",
      "   9.57970700e-01 -8.52496295e-01  2.05016181e-02 -5.56933130e-01\n",
      "  -2.71683334e+00  7.30447788e-01  1.06527762e+00  1.06393510e+00\n",
      "   5.48765710e-01  3.71765952e-01 -1.81196306e-01  8.54798491e-01\n",
      "  -4.88890073e+00  1.36250532e-01 -6.29693074e-01  1.20813915e+00\n",
      "   2.93462800e+00 -1.43189036e+00 -3.81468899e-01  1.61562445e-01\n",
      "  -8.16488823e-01 -6.89997594e-01  6.97785074e-01  2.67413128e+00\n",
      "  -7.10206703e-01 -1.74920595e-01  1.07981898e+00 -3.04417848e+00\n",
      "   1.91089623e+00  3.11794853e+00 -5.73348541e-02  8.43005639e+00\n",
      "  -4.78357437e-01 -1.11417662e-01  1.27823693e+00 -2.51653712e+00\n",
      "   1.86379559e-01  3.08635571e+00  1.79881891e+00 -1.31199829e+00\n",
      "   1.60501981e+00  1.87181099e-01  2.64331180e-01 -2.99989030e-01\n",
      "  -1.05802667e+00 -2.59015548e+00 -2.88834671e+00 -1.61822935e-01\n",
      "  -7.62769583e-01 -5.93890369e-02 -8.26825231e+00 -4.07398606e-01\n",
      "   1.07277959e-01 -2.19170652e+00 -6.98127874e-01 -4.44550341e+00\n",
      "   6.89549395e-01 -3.41509808e-01  1.31840567e+00 -1.40478255e+00\n",
      "  -1.50028866e+00  1.63853803e-01 -1.66881487e-01]]\n"
     ]
    }
   ],
   "source": [
    "predictions_test = predict(data, _)"
   ]
  },
  {
   "cell_type": "code",
   "execution_count": 77,
   "id": "2dc59bce",
   "metadata": {},
   "outputs": [
    {
     "name": "stdout",
     "output_type": "stream",
     "text": [
      "{'prediction': [3]}\n"
     ]
    }
   ],
   "source": [
    "print(predictions_test)"
   ]
  },
  {
   "cell_type": "code",
   "execution_count": null,
   "id": "ad4eefdf",
   "metadata": {},
   "outputs": [],
   "source": []
  }
 ],
 "metadata": {
  "kernelspec": {
   "display_name": "Python [conda env:pytorch19_p37_gpu_v1]",
   "language": "python",
   "name": "conda-env-pytorch19_p37_gpu_v1-py"
  },
  "language_info": {
   "codemirror_mode": {
    "name": "ipython",
    "version": 3
   },
   "file_extension": ".py",
   "mimetype": "text/x-python",
   "name": "python",
   "nbconvert_exporter": "python",
   "pygments_lexer": "ipython3",
   "version": "3.7.10"
  }
 },
 "nbformat": 4,
 "nbformat_minor": 5
}
